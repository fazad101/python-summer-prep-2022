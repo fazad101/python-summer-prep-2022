{
 "cells": [
  {
   "cell_type": "markdown",
   "metadata": {},
   "source": [
    "# List Overlap \n",
    "Write a program that returns a list that contains only the elements that are common between the lists (without duplicates). Make sure your program works on two lists of different sizes."
   ]
  },
  {
   "cell_type": "code",
   "execution_count": 29,
   "metadata": {},
   "outputs": [
    {
     "name": "stdout",
     "output_type": "stream",
     "text": [
      "[1, 2, 3, 5, 8, 13]\n"
     ]
    }
   ],
   "source": [
    "import random\n",
    "\n",
    "a = [1, 1, 2, 3, 5, 8, 13, 21, 34, 55, 89]\n",
    "b = [1, 2, 3, 4, 5, 6, 7, 8, 9, 10, 11, 12, 13]\n",
    "\n",
    "# set_a = set(a)\n",
    "# set_b = set(b)\n",
    "# print(list(set_a.intersection(set_b)))\n",
    "\n",
    "\n",
    "new_list = []\n",
    "for num in b:\n",
    "    if num in a:\n",
    "        new_list.append(num)\n",
    "\n",
    "no_dup = []\n",
    "for num in new_list:\n",
    "    if num not in no_dup:\n",
    "        no_dup.append(num)\n",
    "\n",
    "print(no_dup)"
   ]
  },
  {
   "cell_type": "markdown",
   "metadata": {},
   "source": [
    "# Rock Paper Scissors\n",
    "\n",
    "Make a two-player Rock-Paper-Scissors game. (Hint: Ask for player plays (using input), compare them, print out a message of congratulations to the winner.)\n",
    "\n",
    "Remember the rules:\n",
    "\n",
    "* Rock beats scissors\n",
    "* Scissors beats paper\n",
    "* Paper beats rock"
   ]
  },
  {
   "cell_type": "code",
   "execution_count": 26,
   "metadata": {},
   "outputs": [
    {
     "name": "stdout",
     "output_type": "stream",
     "text": [
      "Player One - Choose a move: Rock, Paper or Scissors\n",
      "Rock\n",
      "Player Two - Choose a move: Rock, Paper or Scissors\n",
      "Paper\n",
      "Player Two Wins!\n",
      "\n"
     ]
    }
   ],
   "source": [
    "player1 = input('Player One - Choose a move: Rock, Paper or Scissors\\n')\n",
    "player2 = input('Player Two - Choose a move: Rock, Paper or Scissors\\n')\n",
    "\n",
    "if player1 == player2:\n",
    "    print('It is a Tie!')\n",
    "\n",
    "elif (player1 == 'Rock') & (player2 == 'Paper'):\n",
    "    print('Player Two Wins!')\n",
    "\n",
    "elif (player1 == 'Rock') & (player2 == 'Scissors'):\n",
    "    print('Player One Wins!')\n",
    "\n",
    "elif (player1 == 'Paper') & (player2 == 'Rock'):\n",
    "    print('Player One Wins!')\n",
    "\n",
    "elif (player1 == 'Paper') & (player2 == 'Scissors'):\n",
    "    print('Player Two Wins!')\n",
    "\n",
    "elif (player1 == 'Scissors') & (player2 == 'Rock'):\n",
    "    print('Player Two Wins!')\n",
    "\n",
    "elif (player1 == 'Scissors') & (player2 == 'Paper'):\n",
    "    print('Player One Wins!')\n",
    "else:\n",
    "    print('Someone chose an invalid move!')\n",
    "print()"
   ]
  },
  {
   "cell_type": "markdown",
   "metadata": {},
   "source": [
    "# Palindrome \n",
    "\n",
    "Ask the user for a string and print out whether this string is a palindrome or not. (A palindrome is a string that reads the same forwards and backwards.)"
   ]
  },
  {
   "cell_type": "code",
   "execution_count": 28,
   "metadata": {},
   "outputs": [
    {
     "name": "stdout",
     "output_type": "stream",
     "text": [
      "Enter a string to check if it is a palindrome: lol\n",
      "lol is a palindrome\n"
     ]
    }
   ],
   "source": [
    "pal = input('Enter a string to check if it is a palindrome: ')\n",
    "if (pal == pal[::-1]):\n",
    "    print(f'{pal} is a palindrome')\n",
    "else:\n",
    "    print(f'{pal} is not a palindrome')"
   ]
  },
  {
   "cell_type": "markdown",
   "metadata": {},
   "source": [
    "# Password Generator\n",
    "Write a password generator in Python. Be creative with how you generate passwords - strong passwords have a mix of lowercase letters, uppercase letters, numbers, and symbols. The passwords should be random.  Ask the user to input how long they want their password to be. "
   ]
  },
  {
   "cell_type": "code",
   "execution_count": 39,
   "metadata": {},
   "outputs": [
    {
     "name": "stdout",
     "output_type": "stream",
     "text": [
      "How long do you want your password to be? 5\n"
     ]
    },
    {
     "data": {
      "text/plain": [
       "'uc9?$'"
      ]
     },
     "execution_count": 39,
     "metadata": {},
     "output_type": "execute_result"
    }
   ],
   "source": [
    "chars = \"abcdefghijklmnopqrstuvwxyz01234567890ABCDEFGHIJKLMNOPQRSTUVWXYZ!@#$%^&*()?\"\n",
    "\n",
    "length = int(input('How long do you want your password to be? '))\n",
    "\n",
    "password = ''\n",
    "for i in range(length):\n",
    "    index = random.randint(0, 74)\n",
    "    password += chars[index]\n",
    "\n",
    "password"
   ]
  },
  {
   "cell_type": "markdown",
   "metadata": {},
   "source": [
    "##### Divisors Solutions\n",
    "\n",
    "Create a program that asks the user for a number and then prints out a list of all the divisors of that number. (If you don’t know what a divisor is, it is a number that divides evenly into another number. For example, 13 is a divisor of 26 because 26 / 13 has no remainder.)"
   ]
  },
  {
   "cell_type": "code",
   "execution_count": 48,
   "metadata": {},
   "outputs": [
    {
     "name": "stdout",
     "output_type": "stream",
     "text": [
      "Enter number: 57\n"
     ]
    },
    {
     "data": {
      "text/plain": [
       "[1, 3, 19, 57]"
      ]
     },
     "execution_count": 48,
     "metadata": {},
     "output_type": "execute_result"
    }
   ],
   "source": [
    "num = int(input('Enter number: '))\n",
    "\n",
    "divisors = []\n",
    "for i in range(1, num+1):\n",
    "    if num%i == 0:\n",
    "        divisors.append(i)\n",
    "\n",
    "divisors    "
   ]
  },
  {
   "cell_type": "markdown",
   "metadata": {},
   "source": [
    "# Missing Character\n",
    "Given a non-empty string and an int n, return a new string where the char at index n has been removed. The value of n will be a valid index of a char in the original string (i.e. n will be in the range 0..len(str)-1 inclusive).\n",
    "\n",
    "```\n",
    "missing_char('kitten', 1) → 'ktten'\n",
    "missing_char('kitten', 0) → 'itten'\n",
    "missing_char('kitten', 4) → 'kittn'\n",
    "\n",
    "```"
   ]
  },
  {
   "cell_type": "code",
   "execution_count": 60,
   "metadata": {},
   "outputs": [
    {
     "data": {
      "text/plain": [
       "'itten'"
      ]
     },
     "execution_count": 60,
     "metadata": {},
     "output_type": "execute_result"
    }
   ],
   "source": [
    "def missing_char(word, n):\n",
    "    return word[0:n] + word[n+1:len(word)]\n",
    "missing_char('kitten', 0)"
   ]
  },
  {
   "cell_type": "markdown",
   "metadata": {},
   "source": [
    "# Centered Average\n",
    "\n",
    "Return the \"centered\" average of an array of ints, which we'll say is the mean average of the values, except ignoring the largest and smallest values in the array. If there are multiple copies of the smallest value, ignore just one copy, and likewise for the largest value.  You may assume that the array is length 3 or more and will never contain negative values. \n",
    "* Round your answer to the nearest whole number.\n",
    "\n",
    "```\n",
    "centered_average([1, 2, 3, 4, 100]) → 3\n",
    "centered_average([1, 1, 5, 5, 10, 8, 7]) → 5\n",
    "```"
   ]
  },
  {
   "cell_type": "code",
   "execution_count": 68,
   "metadata": {},
   "outputs": [
    {
     "name": "stdout",
     "output_type": "stream",
     "text": [
      "54\n"
     ]
    }
   ],
   "source": [
    "example_list = [100, 100, 50, 75, 50, 25, 25, 25]\n",
    "example_list.sort()\n",
    "del example_list[0]\n",
    "del example_list[-1]\n",
    "\n",
    "print(round(sum(example_list)/len(example_list)))"
   ]
  }
 ],
 "metadata": {
  "kernelspec": {
   "display_name": "Python 3 (ipykernel)",
   "language": "python",
   "name": "python3"
  },
  "language_info": {
   "codemirror_mode": {
    "name": "ipython",
    "version": 3
   },
   "file_extension": ".py",
   "mimetype": "text/x-python",
   "name": "python",
   "nbconvert_exporter": "python",
   "pygments_lexer": "ipython3",
   "version": "3.9.12"
  }
 },
 "nbformat": 4,
 "nbformat_minor": 4
}
